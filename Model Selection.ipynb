{
 "cells": [
  {
   "cell_type": "markdown",
   "metadata": {},
   "source": [
    "1) Display the number of instances for each class. That is, you should write code to find out how many instances you have for class 1, class 2, class 3, and class 4. (No loops)"
   ]
  },
  {
   "cell_type": "code",
   "execution_count": 1,
   "metadata": {},
   "outputs": [
    {
     "data": {
      "text/plain": [
       "1    266\n",
       "2    217\n",
       "3    281\n",
       "4    236\n",
       "dtype: int64"
      ]
     },
     "execution_count": 1,
     "metadata": {},
     "output_type": "execute_result"
    }
   ],
   "source": [
    "import numpy as np\n",
    "import matplotlib.pyplot as plt\n",
    "import pandas as pd\n",
    "#Loading the dataset\n",
    "dataset = pd.read_csv('data.csv')\n",
    "pd.value_counts(dataset['custcat'].values, sort=False)"
   ]
  },
  {
   "cell_type": "markdown",
   "metadata": {},
   "source": [
    "\n",
    " 2) Perform one hot encoding on Column 1 (i.e. region) and drop the extra dummy variable."
   ]
  },
  {
   "cell_type": "code",
   "execution_count": 2,
   "metadata": {},
   "outputs": [
    {
     "name": "stderr",
     "output_type": "stream",
     "text": [
      "C:\\Users\\micha\\Anaconda3\\lib\\site-packages\\sklearn\\preprocessing\\_encoders.py:415: FutureWarning: The handling of integer data will change in version 0.22. Currently, the categories are determined based on the range [0, max(values)], while in the future they will be determined based on the unique values.\n",
      "If you want the future behaviour and silence this warning, you can specify \"categories='auto'\".\n",
      "In case you used a LabelEncoder before this OneHotEncoder to convert the categories to integers, then you can now use the OneHotEncoder directly.\n",
      "  warnings.warn(msg, FutureWarning)\n",
      "C:\\Users\\micha\\Anaconda3\\lib\\site-packages\\sklearn\\preprocessing\\_encoders.py:451: DeprecationWarning: The 'categorical_features' keyword is deprecated in version 0.20 and will be removed in 0.22. You can use the ColumnTransformer instead.\n",
      "  \"use the ColumnTransformer instead.\", DeprecationWarning)\n"
     ]
    }
   ],
   "source": [
    "X = dataset.iloc[:,:-1].values\n",
    "y = dataset.iloc[:,11].values\n",
    "#Dealing with categorical variables\n",
    "from sklearn.preprocessing import LabelEncoder, OneHotEncoder\n",
    "labelencoder_X = LabelEncoder()\n",
    "\n",
    "X[:,0] = labelencoder_X.fit_transform(X[:,0])\n",
    "onehotencoder = OneHotEncoder(categorical_features=[0])\n",
    "X = onehotencoder.fit_transform(X).toarray()\n",
    "\n",
    "# Removing the extra dummy variable\n",
    "X1 = X[:, 1:]"
   ]
  },
  {
   "cell_type": "markdown",
   "metadata": {},
   "source": [
    "3) Create histograms of columns age and income to visually explore their distributions."
   ]
  },
  {
   "cell_type": "code",
   "execution_count": 4,
   "metadata": {},
   "outputs": [
    {
     "data": {
      "text/plain": [
       "Text(0, 0.5, 'Frequency')"
      ]
     },
     "execution_count": 4,
     "metadata": {},
     "output_type": "execute_result"
    },
    {
     "data": {
      "image/png": "[encoded data removed]",
      "text/plain": [
       "<Figure size 432x288 with 1 Axes>"
      ]
     },
     "metadata": {
      "needs_background": "light"
     },
     "output_type": "display_data"
    }
   ],
   "source": [
    "dataset['income'].hist(bins=10)\n",
    "plt.xlabel(\"Income\", fontsize=15)\n",
    "plt.ylabel(\"Frequency\",fontsize=15)"
   ]
  },
  {
   "cell_type": "code",
   "execution_count": 5,
   "metadata": {},
   "outputs": [
    {
     "data": {
      "text/plain": [
       "Text(0, 0.5, 'Frequency')"
      ]
     },
     "execution_count": 5,
     "metadata": {},
     "output_type": "execute_result"
    },
    {
     "data": {
      "image/png": "[encoded data removed]",
      "text/plain": [
       "<Figure size 432x288 with 1 Axes>"
      ]
     },
     "metadata": {
      "needs_background": "light"
     },
     "output_type": "display_data"
    }
   ],
   "source": [
    "dataset['age'].hist(bins=10)\n",
    "plt.xlabel(\"Age\", fontsize=15)\n",
    "plt.ylabel(\"Frequency\",fontsize=15)"
   ]
  },
  {
   "cell_type": "markdown",
   "metadata": {},
   "source": [
    "4) Split the dataset into training (70%) and testing set (30%)."
   ]
  },
  {
   "cell_type": "code",
   "execution_count": 11,
   "metadata": {},
   "outputs": [],
   "source": [
    "from sklearn.model_selection import train_test_split\n",
    "X_train, X_test, y_train, y_test = train_test_split(X1,y,test_size=0.3,random_state=0)\n",
    "\n"
   ]
  },
  {
   "cell_type": "markdown",
   "metadata": {},
   "source": [
    "5) Perform normalization of the data using standardization.  "
   ]
  },
  {
   "cell_type": "code",
   "execution_count": 12,
   "metadata": {},
   "outputs": [],
   "source": [
    "from sklearn.preprocessing import StandardScaler\n",
    "sc_X = StandardScaler()\n",
    "X_train = sc_X.fit_transform(X_train)\n",
    "X_test = sc_X.transform(X_test)"
   ]
  },
  {
   "cell_type": "markdown",
   "metadata": {},
   "source": [
    "6) Model 1: Fit a logistic regression model. What is the testing misclassification rate you get?"
   ]
  },
  {
   "cell_type": "code",
   "execution_count": 32,
   "metadata": {},
   "outputs": [
    {
     "name": "stdout",
     "output_type": "stream",
     "text": [
      "LRM misclassification rate: 0.5900000000000001\n"
     ]
    },
    {
     "name": "stderr",
     "output_type": "stream",
     "text": [
      "C:\\Users\\micha\\Anaconda3\\lib\\site-packages\\sklearn\\linear_model\\logistic.py:432: FutureWarning: Default solver will be changed to 'lbfgs' in 0.22. Specify a solver to silence this warning.\n",
      "  FutureWarning)\n",
      "C:\\Users\\micha\\Anaconda3\\lib\\site-packages\\sklearn\\linear_model\\logistic.py:469: FutureWarning: Default multi_class will be changed to 'auto' in 0.22. Specify the multi_class option to silence this warning.\n",
      "  \"this warning.\", FutureWarning)\n"
     ]
    }
   ],
   "source": [
    "#Fitting Logistic Regression to Training Set\n",
    "from sklearn.linear_model import LogisticRegression\n",
    "LRM = LogisticRegression(random_state=0)\n",
    "LRM.fit(X_train, y_train)\n",
    "\n",
    "#misclassification rate is one minus model accuracy. \n",
    "print('LRM misclassification rate:',1-(LRM.score(X_test,y_test)))"
   ]
  },
  {
   "cell_type": "markdown",
   "metadata": {},
   "source": [
    "7) Model 2: We will now fit k-NN. However for k-NN you need to specify the value for k. In order to figure that out, run k-NN in a loop with different values of k (starting from k=5) and compute the testing misclassification rate. Plot a chart with k on X-axis and testing error on the Y-axis. What is the lowest value of testing error and corresponding value of k?  "
   ]
  },
  {
   "cell_type": "code",
   "execution_count": 18,
   "metadata": {},
   "outputs": [
    {
     "data": {
      "image/png": "[encoded data removed]",
      "text/plain": [
       "<Figure size 432x288 with 1 Axes>"
      ]
     },
     "metadata": {
      "needs_background": "light"
     },
     "output_type": "display_data"
    }
   ],
   "source": [
    "from sklearn.neighbors import KNeighborsClassifier\n",
    "\n",
    "# try K=5 through K=0 and record testing accuracy\n",
    "k_range1 = [5,4,3,2,1]\n",
    "\n",
    "# Create Python dictionary using [] or dict()\n",
    "scores = []\n",
    "range2 = []\n",
    "\n",
    "\n",
    "# We append the scores in the dictionary\n",
    "for k in k_range1:\n",
    "    knn = KNeighborsClassifier(n_neighbors=k, p=2, metric='minkowski')\n",
    "    knn.fit(X_train, y_train)\n",
    "    y_pred = knn.predict(X_test)\n",
    "    scores.append(1-(knn.score(X_test,y_test)))\n",
    "    range2.append(k)\n",
    "    \n",
    "plt.bar(range2, scores)\n",
    "plt.xlabel('N of K', fontsize=15)\n",
    "plt.ylabel('Testing Error Rate', fontsize=15)\n",
    "plt.xticks(range2, fontsize=10)\n",
    "plt.title('Error Rate Per Number of Tree')\n",
    "plt.show()\n",
    "\n"
   ]
  },
  {
   "cell_type": "code",
   "execution_count": 90,
   "metadata": {},
   "outputs": [
    {
     "name": "stdout",
     "output_type": "stream",
     "text": [
      "Smallest misclassification rate is k-5: [0.6766666666666667]\n"
     ]
    },
    {
     "data": {
      "text/plain": [
       "KNeighborsClassifier(algorithm='auto', leaf_size=30, metric='minkowski',\n",
       "                     metric_params=None, n_jobs=None, n_neighbors=5, p=2,\n",
       "                     weights='uniform')"
      ]
     },
     "execution_count": 90,
     "metadata": {},
     "output_type": "execute_result"
    }
   ],
   "source": [
    "scores.sort() \n",
    "print(\"Smallest misclassification rate is k-5:\", scores[:1] )\n",
    "\n",
    "knn1 = KNeighborsClassifier(n_neighbors=5, p=2, metric='minkowski')\n",
    "knn1.fit(X_train, y_train)\n"
   ]
  },
  {
   "cell_type": "markdown",
   "metadata": {},
   "source": [
    "8) Model 3: Fit SVM model with different kernels. Which kernel gives the least testing error?\n",
    "\n"
   ]
  },
  {
   "cell_type": "code",
   "execution_count": 208,
   "metadata": {},
   "outputs": [
    {
     "name": "stdout",
     "output_type": "stream",
     "text": [
      "svclinear misclassification rate: 0.5966666666666667\n",
      "svcpoly misclassification rate: 0.6433333333333333\n",
      "svcrbf misclassification rate: 0.64\n",
      "svcsigmoid misclassification rate: 0.6066666666666667\n",
      "The kernel with least error is svclinear\n"
     ]
    }
   ],
   "source": [
    "#Fitting Classifier to Training Set. \n",
    "from sklearn.svm import SVC\n",
    "svclinear = SVC(kernel='linear')\n",
    "svclinear.fit(X_train, y_train)\n",
    "print('svclinear misclassification rate:', 1-(svclinear.score(X_test,y_test)))\n",
    "\n",
    "svcpoly = SVC(kernel='poly')\n",
    "svcpoly.fit(X_train, y_train)\n",
    "#Making predictions on the Test Set\n",
    "print('svcpoly misclassification rate:', 1-(svcpoly.score(X_test,y_test)))\n",
    "\n",
    "svcrbf = SVC(kernel='rbf')\n",
    "svcrbf.fit(X_train, y_train)\n",
    "print('svcrbf misclassification rate:', 1-(svcrbf.score(X_test,y_test)))\n",
    "\n",
    "svcsigmoid = SVC(kernel='sigmoid')\n",
    "svcsigmoid.fit(X_train, y_train)\n",
    "print('svcsigmoid misclassification rate:', 1-(svcsigmoid.score(X_test,y_test)))\n",
    "\n",
    "print('The kernel with least error is svclinear')"
   ]
  },
  {
   "cell_type": "markdown",
   "metadata": {},
   "source": [
    "9) Model 4: Fit Naïve Bayes model. What is the testing error you get?"
   ]
  },
  {
   "cell_type": "code",
   "execution_count": 167,
   "metadata": {},
   "outputs": [
    {
     "name": "stdout",
     "output_type": "stream",
     "text": [
      "nbm misclassification rate: 0.6133333333333333\n"
     ]
    }
   ],
   "source": [
    "#Fitting Classifier to Training Set. Create a classifier object here and call it classifierObj\n",
    "from sklearn.naive_bayes import GaussianNB\n",
    "nbm = GaussianNB()\n",
    "nbm.fit(X_train, y_train)\n",
    "print('nbm misclassification rate:', 1-(nbm.score(X_test,y_test)))"
   ]
  },
  {
   "cell_type": "markdown",
   "metadata": {},
   "source": [
    "10) Model 5: Fit Random Forest model. For Random Forest, you need to specify the number of trees (n_estimators). In order to figure that out, run Random Forest in a loop with different values of n_estimators (starting from 10) and compute the testing misclassification rate. Plot a chart with n_estimators on X-axis and testing error on the Y-axis. What is the lowest value of testing error and corresponding value of n_estimators? "
   ]
  },
  {
   "cell_type": "code",
   "execution_count": 168,
   "metadata": {},
   "outputs": [
    {
     "data": {
      "image/png": "[encoded data removed]",
      "text/plain": [
       "<Figure size 432x288 with 1 Axes>"
      ]
     },
     "metadata": {
      "needs_background": "light"
     },
     "output_type": "display_data"
    }
   ],
   "source": [
    "from sklearn.ensemble import RandomForestClassifier\n",
    "\n",
    "# try K=1 through K=25 and record testing accuracy\n",
    "k_range = [10,9,8,7,6,5,4,3,2,1]\n",
    "\n",
    "# We can create Python dictionary using [] or dict()\n",
    "\n",
    "scores1 = []\n",
    "range1 = []\n",
    "\n",
    "# We use a loop through the range 1 to 26\n",
    "# We append the scores in the dictionary\n",
    "\n",
    "for k in k_range:\n",
    "    forest = RandomForestClassifier(n_estimators=k, criterion='gini')\n",
    "    forest.fit(X_train,y_train)\n",
    "    y_pred = forest.predict(X_test)\n",
    "    scores1.append(1-(forest.score(X_test,y_test)))\n",
    "    range1.append(k)\n",
    "    \n",
    "plt.bar(range1, scores1)\n",
    "plt.xlabel('N_Estimator', fontsize=15)\n",
    "plt.ylabel('Testing Error Rate', fontsize=15)\n",
    "plt.xticks(range1, fontsize=10)\n",
    "plt.title('Error Rate Per Number of Tree')\n",
    "plt.show()  \n"
   ]
  },
  {
   "cell_type": "code",
   "execution_count": 169,
   "metadata": {},
   "outputs": [
    {
     "name": "stdout",
     "output_type": "stream",
     "text": [
      "Smallest misclassification rate is k-2: [0.63]\n"
     ]
    },
    {
     "data": {
      "text/plain": [
       "RandomForestClassifier(bootstrap=True, class_weight=None, criterion='gini',\n",
       "                       max_depth=None, max_features='auto', max_leaf_nodes=None,\n",
       "                       min_impurity_decrease=0.0, min_impurity_split=None,\n",
       "                       min_samples_leaf=1, min_samples_split=2,\n",
       "                       min_weight_fraction_leaf=0.0, n_estimators=2,\n",
       "                       n_jobs=None, oob_score=False, random_state=None,\n",
       "                       verbose=0, warm_start=False)"
      ]
     },
     "execution_count": 169,
     "metadata": {},
     "output_type": "execute_result"
    }
   ],
   "source": [
    "scores1.sort() \n",
    "print(\"Smallest misclassification rate is k-2:\", scores1[:1] )\n",
    "forest1 = RandomForestClassifier(n_estimators=2, criterion='gini')\n",
    "forest1.fit(X_train,y_train)"
   ]
  },
  {
   "cell_type": "markdown",
   "metadata": {},
   "source": [
    "Q11) Predicting with Ensemble: Now that you have built 5 models. Loop over the testing set. For every test instance, have each of the models predict the class label. Eventual class predicted will be based on a majority vote of the 5 models. What is the testing misclassification rate you get with the ensemble model\n"
   ]
  },
  {
   "cell_type": "code",
   "execution_count": 206,
   "metadata": {},
   "outputs": [
    {
     "name": "stdout",
     "output_type": "stream",
     "text": [
      "[1, 2, 1, 2, 1]\n",
      "[(1, 3)]\n",
      "[1, 1, 1, 1, 1]\n",
      "[(1, 5)]\n",
      "[2, 2, 2, 1, 1]\n",
      "[(2, 3)]\n",
      "[3, 2, 3, 1, 2]\n",
      "[(3, 2)]\n",
      "[3, 2, 3, 2, 3]\n",
      "[(3, 3)]\n",
      "[1, 2, 1, 1, 1]\n",
      "[(1, 4)]\n",
      "[1, 1, 1, 1, 1]\n",
      "[(1, 5)]\n",
      "[1, 1, 3, 1, 3]\n",
      "[(1, 3)]\n",
      "[1, 3, 1, 1, 1]\n",
      "[(1, 4)]\n",
      "[1, 4, 1, 1, 1]\n",
      "[(1, 4)]\n",
      "[1, 2, 1, 1, 1]\n",
      "[(1, 4)]\n",
      "[3, 4, 3, 3, 4]\n",
      "[(3, 3)]\n",
      "[3, 3, 3, 3, 3]\n",
      "[(3, 5)]\n",
      "[3, 3, 4, 2, 2]\n",
      "[(3, 2)]\n",
      "[1, 1, 1, 1, 3]\n",
      "[(1, 4)]\n",
      "[3, 2, 3, 1, 2]\n",
      "[(3, 2)]\n",
      "[1, 3, 1, 1, 1]\n",
      "[(1, 4)]\n",
      "[1, 1, 1, 1, 1]\n",
      "[(1, 5)]\n",
      "[1, 1, 1, 1, 1]\n",
      "[(1, 5)]\n",
      "[3, 3, 3, 3, 1]\n",
      "[(3, 4)]\n",
      "[2, 2, 2, 2, 2]\n",
      "[(2, 5)]\n",
      "[1, 1, 1, 1, 1]\n",
      "[(1, 5)]\n",
      "[1, 4, 1, 1, 1]\n",
      "[(1, 4)]\n",
      "[2, 2, 2, 2, 1]\n",
      "[(2, 4)]\n",
      "[4, 1, 4, 1, 3]\n",
      "[(4, 2)]\n",
      "[2, 1, 2, 1, 2]\n",
      "[(2, 3)]\n",
      "[2, 4, 2, 2, 2]\n",
      "[(2, 4)]\n",
      "[4, 3, 4, 1, 2]\n",
      "[(4, 2)]\n",
      "[2, 2, 2, 1, 1]\n",
      "[(2, 3)]\n",
      "[4, 2, 4, 4, 4]\n",
      "[(4, 4)]\n",
      "[4, 1, 4, 1, 2]\n",
      "[(4, 2)]\n",
      "[3, 2, 3, 1, 3]\n",
      "[(3, 3)]\n",
      "[2, 3, 2, 1, 2]\n",
      "[(2, 3)]\n",
      "[4, 4, 4, 1, 1]\n",
      "[(4, 3)]\n",
      "[4, 1, 4, 1, 2]\n",
      "[(4, 2)]\n",
      "[1, 3, 1, 1, 2]\n",
      "[(1, 3)]\n",
      "[1, 1, 1, 1, 1]\n",
      "[(1, 5)]\n",
      "[2, 4, 2, 2, 2]\n",
      "[(2, 4)]\n",
      "[3, 3, 4, 2, 1]\n",
      "[(3, 2)]\n",
      "[3, 1, 3, 3, 2]\n",
      "[(3, 3)]\n",
      "[3, 1, 3, 1, 1]\n",
      "[(1, 3)]\n",
      "[4, 2, 4, 1, 4]\n",
      "[(4, 3)]\n",
      "[4, 2, 4, 4, 1]\n",
      "[(4, 3)]\n",
      "[3, 3, 3, 1, 1]\n",
      "[(3, 3)]\n",
      "[3, 3, 3, 3, 3]\n",
      "[(3, 5)]\n",
      "[2, 2, 2, 2, 2]\n",
      "[(2, 5)]\n",
      "[2, 1, 2, 1, 2]\n",
      "[(2, 3)]\n",
      "[3, 3, 3, 1, 4]\n",
      "[(3, 3)]\n",
      "[1, 1, 1, 1, 2]\n",
      "[(1, 4)]\n",
      "[3, 2, 3, 1, 2]\n",
      "[(3, 2)]\n",
      "[3, 3, 3, 2, 3]\n",
      "[(3, 4)]\n",
      "[3, 3, 4, 2, 1]\n",
      "[(3, 2)]\n",
      "[2, 2, 2, 2, 2]\n",
      "[(2, 5)]\n",
      "[1, 4, 1, 1, 1]\n",
      "[(1, 4)]\n",
      "[2, 3, 2, 2, 2]\n",
      "[(2, 4)]\n",
      "[3, 3, 3, 3, 3]\n",
      "[(3, 5)]\n",
      "[2, 2, 2, 1, 1]\n",
      "[(2, 3)]\n",
      "[3, 4, 3, 1, 3]\n",
      "[(3, 3)]\n",
      "[4, 1, 4, 1, 1]\n",
      "[(1, 3)]\n",
      "[4, 3, 4, 1, 1]\n",
      "[(4, 2)]\n",
      "[1, 1, 1, 1, 3]\n",
      "[(1, 4)]\n",
      "[1, 1, 1, 3, 3]\n",
      "[(1, 3)]\n",
      "[4, 3, 4, 1, 4]\n",
      "[(4, 3)]\n",
      "[2, 3, 2, 4, 3]\n",
      "[(2, 2)]\n",
      "[3, 3, 3, 3, 2]\n",
      "[(3, 4)]\n",
      "[3, 1, 3, 1, 2]\n",
      "[(3, 2)]\n",
      "[3, 1, 3, 3, 2]\n",
      "[(3, 3)]\n",
      "[1, 1, 1, 1, 1]\n",
      "[(1, 5)]\n",
      "[4, 4, 4, 2, 2]\n",
      "[(4, 3)]\n",
      "[1, 1, 1, 1, 1]\n",
      "[(1, 5)]\n",
      "[4, 2, 2, 1, 3]\n",
      "[(2, 2)]\n",
      "[3, 2, 3, 1, 4]\n",
      "[(3, 2)]\n",
      "[2, 3, 2, 1, 1]\n",
      "[(2, 2)]\n",
      "[3, 2, 3, 1, 4]\n",
      "[(3, 2)]\n",
      "[2, 2, 2, 1, 3]\n",
      "[(2, 3)]\n",
      "[4, 4, 4, 1, 1]\n",
      "[(4, 3)]\n",
      "[2, 2, 2, 1, 3]\n",
      "[(2, 3)]\n",
      "[3, 3, 3, 3, 2]\n",
      "[(3, 4)]\n",
      "[3, 1, 3, 1, 1]\n",
      "[(1, 3)]\n",
      "[1, 1, 1, 1, 1]\n",
      "[(1, 5)]\n",
      "[1, 1, 1, 1, 1]\n",
      "[(1, 5)]\n",
      "[3, 1, 3, 1, 3]\n",
      "[(3, 3)]\n",
      "[3, 4, 3, 1, 1]\n",
      "[(3, 2)]\n",
      "[3, 1, 3, 1, 1]\n",
      "[(1, 3)]\n",
      "[3, 3, 3, 3, 1]\n",
      "[(3, 4)]\n",
      "[3, 3, 3, 1, 4]\n",
      "[(3, 3)]\n",
      "[4, 3, 4, 2, 2]\n",
      "[(4, 2)]\n",
      "[4, 1, 4, 1, 1]\n",
      "[(1, 3)]\n",
      "[2, 2, 2, 2, 2]\n",
      "[(2, 5)]\n",
      "[1, 1, 1, 3, 2]\n",
      "[(1, 3)]\n",
      "[3, 3, 3, 3, 2]\n",
      "[(3, 4)]\n",
      "[3, 4, 3, 3, 3]\n",
      "[(3, 4)]\n",
      "[3, 1, 3, 3, 3]\n",
      "[(3, 4)]\n",
      "[1, 1, 1, 1, 2]\n",
      "[(1, 4)]\n",
      "[2, 4, 2, 2, 4]\n",
      "[(2, 3)]\n",
      "[1, 3, 1, 1, 2]\n",
      "[(1, 3)]\n",
      "[3, 3, 3, 1, 1]\n",
      "[(3, 3)]\n",
      "[1, 1, 1, 1, 2]\n",
      "[(1, 4)]\n",
      "[2, 2, 2, 3, 1]\n",
      "[(2, 3)]\n",
      "[4, 1, 4, 1, 2]\n",
      "[(4, 2)]\n",
      "[1, 1, 1, 1, 3]\n",
      "[(1, 4)]\n",
      "[3, 3, 3, 1, 1]\n",
      "[(3, 3)]\n",
      "[3, 3, 3, 3, 3]\n",
      "[(3, 5)]\n",
      "[2, 3, 2, 1, 1]\n",
      "[(2, 2)]\n",
      "[1, 1, 1, 1, 1]\n",
      "[(1, 5)]\n",
      "[2, 4, 2, 2, 2]\n",
      "[(2, 4)]\n",
      "[1, 2, 1, 1, 1]\n",
      "[(1, 4)]\n",
      "[4, 2, 4, 1, 3]\n",
      "[(4, 2)]\n",
      "[3, 3, 3, 3, 3]\n",
      "[(3, 5)]\n",
      "[4, 2, 4, 1, 1]\n",
      "[(4, 2)]\n",
      "[3, 1, 3, 1, 4]\n",
      "[(3, 2)]\n",
      "[3, 3, 3, 1, 1]\n",
      "[(3, 3)]\n",
      "[4, 2, 4, 4, 1]\n",
      "[(4, 3)]\n",
      "[3, 1, 3, 1, 1]\n",
      "[(1, 3)]\n",
      "[3, 3, 3, 1, 2]\n",
      "[(3, 3)]\n",
      "[3, 4, 3, 3, 1]\n",
      "[(3, 3)]\n",
      "[4, 1, 2, 1, 2]\n",
      "[(1, 2)]\n",
      "[2, 2, 2, 2, 2]\n",
      "[(2, 5)]\n",
      "[1, 3, 1, 1, 1]\n",
      "[(1, 4)]\n",
      "[3, 3, 3, 1, 1]\n",
      "[(3, 3)]\n",
      "[4, 1, 4, 1, 1]\n",
      "[(1, 3)]\n",
      "[3, 1, 3, 1, 1]\n",
      "[(1, 3)]\n",
      "[1, 3, 1, 1, 1]\n",
      "[(1, 4)]\n",
      "[3, 2, 2, 2, 1]\n",
      "[(2, 3)]\n",
      "[3, 2, 3, 2, 2]\n",
      "[(2, 3)]\n",
      "[3, 3, 3, 3, 3]\n",
      "[(3, 5)]\n",
      "[2, 2, 2, 2, 2]\n",
      "[(2, 5)]\n",
      "[3, 4, 3, 3, 3]\n",
      "[(3, 4)]\n",
      "[1, 1, 1, 1, 1]\n",
      "[(1, 5)]\n",
      "[4, 4, 4, 1, 1]\n",
      "[(4, 3)]\n",
      "[4, 1, 4, 4, 1]\n",
      "[(4, 3)]\n",
      "[2, 1, 2, 2, 2]\n",
      "[(2, 4)]\n",
      "[4, 4, 4, 1, 4]\n",
      "[(4, 4)]\n",
      "[2, 2, 2, 2, 4]\n",
      "[(2, 4)]\n",
      "[4, 2, 1, 1, 2]\n",
      "[(2, 2)]\n",
      "[2, 2, 2, 1, 3]\n",
      "[(2, 3)]\n",
      "[4, 1, 4, 1, 4]\n",
      "[(4, 3)]\n",
      "[4, 2, 4, 4, 2]\n",
      "[(4, 3)]\n",
      "[3, 2, 4, 2, 1]\n",
      "[(2, 2)]\n",
      "[1, 1, 1, 1, 1]\n",
      "[(1, 5)]\n",
      "[2, 3, 2, 4, 2]\n",
      "[(2, 3)]\n",
      "[1, 1, 1, 1, 1]\n",
      "[(1, 5)]\n",
      "[4, 4, 4, 4, 2]\n",
      "[(4, 4)]\n",
      "[4, 4, 4, 1, 3]\n",
      "[(4, 3)]\n",
      "[2, 2, 2, 2, 3]\n",
      "[(2, 4)]\n",
      "[3, 1, 3, 1, 3]\n",
      "[(3, 3)]\n",
      "[2, 2, 2, 1, 2]\n",
      "[(2, 4)]\n",
      "[4, 3, 4, 4, 2]\n",
      "[(4, 3)]\n",
      "[2, 2, 2, 1, 2]\n",
      "[(2, 4)]\n",
      "[4, 3, 4, 2, 2]\n",
      "[(4, 2)]\n",
      "[2, 2, 2, 2, 2]\n",
      "[(2, 5)]\n",
      "[3, 1, 3, 1, 1]\n",
      "[(1, 3)]\n",
      "[2, 2, 3, 3, 3]\n",
      "[(3, 3)]\n",
      "[4, 4, 4, 1, 3]\n",
      "[(4, 3)]\n",
      "[3, 3, 3, 1, 2]\n",
      "[(3, 3)]\n",
      "[2, 2, 2, 1, 1]\n",
      "[(2, 3)]\n",
      "[1, 3, 1, 1, 1]\n",
      "[(1, 4)]\n",
      "[4, 2, 4, 1, 1]\n",
      "[(4, 2)]\n",
      "[4, 3, 4, 4, 1]\n",
      "[(4, 3)]\n",
      "[1, 2, 1, 1, 1]\n",
      "[(1, 4)]\n",
      "[1, 3, 1, 1, 3]\n",
      "[(1, 3)]\n",
      "[4, 4, 1, 1, 1]\n",
      "[(1, 3)]\n",
      "[2, 2, 2, 3, 2]\n",
      "[(2, 4)]\n",
      "[3, 1, 3, 3, 3]\n",
      "[(3, 4)]\n",
      "[3, 1, 3, 3, 2]\n",
      "[(3, 3)]\n",
      "[2, 2, 2, 1, 1]\n",
      "[(2, 3)]\n",
      "[1, 1, 1, 1, 2]\n",
      "[(1, 4)]\n",
      "[2, 4, 3, 1, 3]\n",
      "[(3, 2)]\n",
      "[3, 3, 3, 3, 3]\n",
      "[(3, 5)]\n",
      "[1, 1, 1, 1, 1]\n",
      "[(1, 5)]\n",
      "[4, 1, 4, 4, 1]\n",
      "[(4, 3)]\n",
      "[3, 3, 3, 3, 3]\n",
      "[(3, 5)]\n",
      "[4, 4, 2, 1, 2]\n",
      "[(4, 2)]\n",
      "[1, 1, 1, 1, 1]\n",
      "[(1, 5)]\n",
      "[1, 3, 1, 1, 1]\n",
      "[(1, 4)]\n",
      "[3, 3, 3, 3, 2]\n",
      "[(3, 4)]\n",
      "[3, 3, 3, 1, 3]\n",
      "[(3, 4)]\n",
      "[1, 2, 1, 1, 1]\n",
      "[(1, 4)]\n",
      "[1, 4, 1, 1, 3]\n",
      "[(1, 3)]\n",
      "[1, 3, 1, 1, 1]\n",
      "[(1, 4)]\n",
      "[3, 1, 3, 3, 1]\n",
      "[(3, 3)]\n",
      "[2, 2, 2, 1, 3]\n",
      "[(2, 3)]\n",
      "[3, 1, 3, 1, 1]\n",
      "[(1, 3)]\n",
      "[2, 4, 2, 1, 1]\n",
      "[(2, 2)]\n",
      "[1, 3, 1, 1, 1]\n",
      "[(1, 4)]\n",
      "[2, 2, 2, 2, 1]\n",
      "[(2, 4)]\n",
      "[4, 2, 1, 1, 2]\n",
      "[(2, 2)]\n",
      "[3, 3, 3, 3, 3]\n",
      "[(3, 5)]\n",
      "[3, 3, 3, 3, 3]\n",
      "[(3, 5)]\n",
      "[4, 4, 4, 4, 2]\n",
      "[(4, 4)]\n",
      "[1, 1, 1, 1, 3]\n",
      "[(1, 4)]\n",
      "[2, 3, 2, 2, 1]\n",
      "[(2, 3)]\n",
      "[4, 2, 4, 4, 2]\n",
      "[(4, 3)]\n",
      "[3, 2, 3, 1, 3]\n",
      "[(3, 3)]\n",
      "[3, 1, 3, 1, 3]\n",
      "[(3, 3)]\n",
      "[4, 1, 4, 4, 1]\n",
      "[(4, 3)]\n",
      "[1, 1, 1, 1, 1]\n",
      "[(1, 5)]\n",
      "[2, 2, 2, 2, 2]\n",
      "[(2, 5)]\n",
      "[1, 3, 1, 3, 2]\n",
      "[(1, 2)]\n",
      "[2, 3, 2, 1, 2]\n",
      "[(2, 3)]\n",
      "[1, 1, 1, 1, 1]\n",
      "[(1, 5)]\n",
      "[1, 4, 1, 1, 2]\n",
      "[(1, 3)]\n",
      "[1, 1, 1, 1, 3]\n",
      "[(1, 4)]\n",
      "[3, 3, 3, 3, 3]\n",
      "[(3, 5)]\n",
      "[3, 2, 3, 2, 1]\n",
      "[(3, 2)]\n",
      "[3, 1, 3, 1, 1]\n",
      "[(1, 3)]\n",
      "[1, 3, 1, 1, 2]\n",
      "[(1, 3)]\n",
      "[1, 1, 1, 1, 1]\n",
      "[(1, 5)]\n",
      "[4, 4, 4, 1, 1]\n",
      "[(4, 3)]\n",
      "[1, 3, 1, 1, 1]\n",
      "[(1, 4)]\n",
      "[2, 2, 2, 1, 1]\n",
      "[(2, 3)]\n",
      "[4, 4, 4, 1, 3]\n",
      "[(4, 3)]\n",
      "[3, 3, 3, 3, 2]\n",
      "[(3, 4)]\n",
      "[2, 2, 3, 3, 1]\n",
      "[(2, 2)]\n",
      "[1, 1, 1, 1, 2]\n",
      "[(1, 4)]\n",
      "[3, 3, 3, 1, 3]\n",
      "[(3, 4)]\n",
      "[4, 4, 4, 1, 3]\n",
      "[(4, 3)]\n",
      "[4, 1, 4, 2, 1]\n",
      "[(4, 2)]\n",
      "[1, 1, 1, 1, 1]\n",
      "[(1, 5)]\n",
      "[3, 3, 3, 3, 1]\n",
      "[(3, 4)]\n",
      "[3, 3, 3, 3, 2]\n",
      "[(3, 4)]\n",
      "[3, 1, 3, 2, 3]\n",
      "[(3, 3)]\n",
      "[1, 3, 1, 1, 1]\n",
      "[(1, 4)]\n",
      "[1, 3, 1, 1, 2]\n",
      "[(1, 3)]\n",
      "[4, 2, 4, 1, 2]\n",
      "[(4, 2)]\n",
      "[3, 1, 3, 3, 1]\n",
      "[(3, 3)]\n",
      "[3, 3, 3, 1, 1]\n",
      "[(3, 3)]\n",
      "[3, 3, 3, 3, 2]\n",
      "[(3, 4)]\n",
      "[1, 3, 1, 1, 1]\n",
      "[(1, 4)]\n",
      "[2, 2, 2, 2, 4]\n",
      "[(2, 4)]\n",
      "[1, 3, 2, 1, 2]\n",
      "[(1, 2)]\n",
      "[2, 1, 1, 1, 3]\n",
      "[(1, 3)]\n",
      "[4, 1, 4, 1, 1]\n",
      "[(1, 3)]\n",
      "[1, 1, 1, 1, 1]\n",
      "[(1, 5)]\n",
      "[1, 1, 1, 1, 2]\n",
      "[(1, 4)]\n",
      "[4, 2, 4, 1, 2]\n",
      "[(4, 2)]\n",
      "[3, 4, 3, 2, 3]\n",
      "[(3, 3)]\n",
      "[2, 2, 2, 2, 2]\n",
      "[(2, 5)]\n",
      "[2, 2, 2, 2, 1]\n",
      "[(2, 4)]\n",
      "[1, 1, 1, 1, 1]\n",
      "[(1, 5)]\n",
      "[4, 4, 4, 1, 1]\n",
      "[(4, 3)]\n",
      "[3, 2, 1, 1, 1]\n",
      "[(1, 3)]\n",
      "[3, 1, 4, 2, 1]\n",
      "[(1, 2)]\n",
      "[2, 2, 2, 1, 2]\n",
      "[(2, 4)]\n",
      "[3, 4, 3, 3, 2]\n",
      "[(3, 3)]\n",
      "[1, 1, 1, 1, 3]\n",
      "[(1, 4)]\n",
      "[3, 2, 3, 3, 1]\n",
      "[(3, 3)]\n",
      "[3, 2, 3, 3, 2]\n",
      "[(3, 3)]\n",
      "[1, 3, 1, 1, 1]\n",
      "[(1, 4)]\n",
      "[3, 3, 3, 3, 2]\n",
      "[(3, 4)]\n",
      "[3, 2, 3, 3, 1]\n",
      "[(3, 3)]\n",
      "[1, 4, 1, 1, 3]\n",
      "[(1, 3)]\n",
      "[3, 3, 3, 1, 2]\n",
      "[(3, 3)]\n",
      "[3, 3, 3, 3, 1]\n",
      "[(3, 4)]\n",
      "[1, 1, 1, 1, 1]\n",
      "[(1, 5)]\n",
      "[1, 1, 1, 1, 3]\n",
      "[(1, 4)]\n",
      "[4, 4, 4, 1, 2]\n",
      "[(4, 3)]\n",
      "[2, 2, 2, 2, 2]\n",
      "[(2, 5)]\n",
      "[4, 4, 4, 1, 1]\n",
      "[(4, 3)]\n",
      "[1, 1, 1, 1, 3]\n",
      "[(1, 4)]\n",
      "[2, 2, 2, 3, 2]\n",
      "[(2, 4)]\n",
      "[4, 4, 4, 1, 3]\n",
      "[(4, 3)]\n",
      "[2, 2, 2, 2, 1]\n",
      "[(2, 4)]\n",
      "[4, 4, 4, 4, 2]\n",
      "[(4, 4)]\n",
      "[1, 1, 1, 1, 2]\n",
      "[(1, 4)]\n",
      "[1, 1, 1, 1, 1]\n",
      "[(1, 5)]\n",
      "[4, 3, 4, 2, 2]\n",
      "[(4, 2)]\n",
      "[1, 4, 1, 1, 1]\n",
      "[(1, 4)]\n",
      "[4, 2, 4, 1, 3]\n",
      "[(4, 2)]\n",
      "[3, 1, 1, 1, 2]\n",
      "[(1, 3)]\n",
      "[1, 4, 1, 1, 1]\n",
      "[(1, 4)]\n",
      "[1, 3, 1, 1, 1]\n",
      "[(1, 4)]\n",
      "[1, 3, 1, 1, 2]\n",
      "[(1, 3)]\n",
      "[3, 2, 3, 3, 1]\n",
      "[(3, 3)]\n",
      "[4, 4, 4, 4, 1]\n",
      "[(4, 4)]\n",
      "[1, 3, 1, 1, 4]\n",
      "[(1, 3)]\n",
      "[1, 1, 1, 1, 4]\n",
      "[(1, 4)]\n",
      "[3, 2, 3, 1, 3]\n",
      "[(3, 3)]\n",
      "[3, 4, 3, 1, 3]\n",
      "[(3, 3)]\n",
      "[3, 4, 3, 3, 2]\n",
      "[(3, 3)]\n",
      "[1, 1, 1, 1, 1]\n",
      "[(1, 5)]\n",
      "[1, 1, 1, 1, 2]\n",
      "[(1, 4)]\n",
      "[3, 3, 3, 3, 4]\n",
      "[(3, 4)]\n",
      "[1, 1, 1, 1, 3]\n",
      "[(1, 4)]\n",
      "[2, 2, 2, 2, 3]\n",
      "[(2, 4)]\n",
      "[3, 2, 3, 3, 1]\n",
      "[(3, 3)]\n",
      "[2, 3, 2, 2, 2]\n",
      "[(2, 4)]\n",
      "[2, 2, 2, 2, 2]\n",
      "[(2, 5)]\n",
      "[4, 1, 1, 1, 1]\n",
      "[(1, 4)]\n",
      "[4, 1, 4, 2, 3]\n",
      "[(4, 2)]\n",
      "[3, 3, 1, 1, 1]\n",
      "[(1, 3)]\n",
      "[3, 3, 3, 3, 1]\n",
      "[(3, 4)]\n",
      "[4, 2, 2, 4, 4]\n",
      "[(4, 3)]\n",
      "[1, 3, 1, 1, 1]\n",
      "[(1, 4)]\n",
      "[4, 4, 4, 1, 1]\n",
      "[(4, 3)]\n",
      "[1, 1, 1, 1, 1]\n",
      "[(1, 5)]\n",
      "[2, 1, 2, 3, 1]\n",
      "[(2, 2)]\n",
      "[1, 1, 1, 1, 1]\n",
      "[(1, 5)]\n",
      "[3, 3, 3, 3, 2]\n",
      "[(3, 4)]\n",
      "[4, 4, 4, 1, 1]\n",
      "[(4, 3)]\n"
     ]
    }
   ],
   "source": [
    "from sklearn.metrics import accuracy_score\n",
    "from collections import Counter\n",
    "score = []\n",
    "\n",
    "for item in X_test: \n",
    "    newdata = item.reshape(1, -1)\n",
    "    model1 = LRM.predict(newdata).astype(int)\n",
    "    model2 = knn1.predict(newdata).astype(int)\n",
    "    model3 = svclinear.predict(newdata).astype(int)\n",
    "    model4 = nbm.predict(newdata).astype(int)\n",
    "    model5 = forest1.predict(newdata).astype(int)\n",
    "    result = np.concatenate((model1, model2, model3, model4, model5), axis=0).tolist()\n",
    "    data = Counter(result)\n",
    "    data2 = data.most_common(1)\n",
    "    data3 = data2[0]\n",
    "    score.append(data3[0])\n",
    "    print(result)\n",
    "    print(data2)\n",
    "    \n",
    " "
   ]
  },
  {
   "cell_type": "code",
   "execution_count": 207,
   "metadata": {},
   "outputs": [
    {
     "name": "stdout",
     "output_type": "stream",
     "text": [
      "misclassification rate is: 0.6\n"
     ]
    }
   ],
   "source": [
    "print('misclassification rate is:', 1-(accuracy_score(score, y_test))) "
   ]
  }
 ],
 "metadata": {
  "kernelspec": {
   "display_name": "Python 3",
   "language": "python",
   "name": "python3"
  },
  "language_info": {
   "codemirror_mode": {
    "name": "ipython",
    "version": 3
   },
   "file_extension": ".py",
   "mimetype": "text/x-python",
   "name": "python",
   "nbconvert_exporter": "python",
   "pygments_lexer": "ipython3",
   "version": "3.7.4"
  }
 },
 "nbformat": 4,
 "nbformat_minor": 2
}
