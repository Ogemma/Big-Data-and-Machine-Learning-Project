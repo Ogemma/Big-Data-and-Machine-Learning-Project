{
 "cells": [
  {
   "cell_type": "markdown",
   "metadata": {},
   "source": [
    "Import class and load BigRetail CRM Dataset "
   ]
  },
  {
   "cell_type": "code",
   "execution_count": 1,
   "metadata": {},
   "outputs": [
    {
     "data": {
      "text/html": [
       "<div>\n",
       "<style scoped>\n",
       "    .dataframe tbody tr th:only-of-type {\n",
       "        vertical-align: middle;\n",
       "    }\n",
       "\n",
       "    .dataframe tbody tr th {\n",
       "        vertical-align: top;\n",
       "    }\n",
       "\n",
       "    .dataframe thead th {\n",
       "        text-align: right;\n",
       "    }\n",
       "</style>\n",
       "<table border=\"1\" class=\"dataframe\">\n",
       "  <thead>\n",
       "    <tr style=\"text-align: right;\">\n",
       "      <th></th>\n",
       "      <th>Rewards_Signup</th>\n",
       "      <th>Customer_ID</th>\n",
       "      <th>Age</th>\n",
       "      <th>Sex</th>\n",
       "      <th>Addtl_HH_size</th>\n",
       "      <th>CustomerType</th>\n",
       "      <th>LastPurchaseAmt</th>\n",
       "      <th>Purchase_Prod_ID</th>\n",
       "      <th>CustomerTier</th>\n",
       "      <th>CustomerTier2</th>\n",
       "    </tr>\n",
       "  </thead>\n",
       "  <tbody>\n",
       "    <tr>\n",
       "      <td>0</td>\n",
       "      <td>0</td>\n",
       "      <td>315</td>\n",
       "      <td>43.0</td>\n",
       "      <td>male</td>\n",
       "      <td>2</td>\n",
       "      <td>New</td>\n",
       "      <td>26.2500</td>\n",
       "      <td>F.C.C. 13529</td>\n",
       "      <td>2</td>\n",
       "      <td>NaN</td>\n",
       "    </tr>\n",
       "    <tr>\n",
       "      <td>1</td>\n",
       "      <td>1</td>\n",
       "      <td>541</td>\n",
       "      <td>36.0</td>\n",
       "      <td>female</td>\n",
       "      <td>2</td>\n",
       "      <td>New</td>\n",
       "      <td>71.0000</td>\n",
       "      <td>WE/P 5735</td>\n",
       "      <td>1</td>\n",
       "      <td>B22</td>\n",
       "    </tr>\n",
       "    <tr>\n",
       "      <td>2</td>\n",
       "      <td>1</td>\n",
       "      <td>709</td>\n",
       "      <td>22.0</td>\n",
       "      <td>female</td>\n",
       "      <td>0</td>\n",
       "      <td>New</td>\n",
       "      <td>151.5500</td>\n",
       "      <td>113781</td>\n",
       "      <td>1</td>\n",
       "      <td>NaN</td>\n",
       "    </tr>\n",
       "    <tr>\n",
       "      <td>3</td>\n",
       "      <td>0</td>\n",
       "      <td>747</td>\n",
       "      <td>16.0</td>\n",
       "      <td>male</td>\n",
       "      <td>2</td>\n",
       "      <td>New</td>\n",
       "      <td>20.2500</td>\n",
       "      <td>C.A. 2673</td>\n",
       "      <td>3</td>\n",
       "      <td>NaN</td>\n",
       "    </tr>\n",
       "    <tr>\n",
       "      <td>4</td>\n",
       "      <td>1</td>\n",
       "      <td>128</td>\n",
       "      <td>24.0</td>\n",
       "      <td>male</td>\n",
       "      <td>0</td>\n",
       "      <td>New</td>\n",
       "      <td>7.1417</td>\n",
       "      <td>C 17369</td>\n",
       "      <td>3</td>\n",
       "      <td>NaN</td>\n",
       "    </tr>\n",
       "  </tbody>\n",
       "</table>\n",
       "</div>"
      ],
      "text/plain": [
       "   Rewards_Signup  Customer_ID   Age     Sex  Addtl_HH_size CustomerType  \\\n",
       "0               0          315  43.0    male              2          New   \n",
       "1               1          541  36.0  female              2          New   \n",
       "2               1          709  22.0  female              0          New   \n",
       "3               0          747  16.0    male              2          New   \n",
       "4               1          128  24.0    male              0          New   \n",
       "\n",
       "   LastPurchaseAmt Purchase_Prod_ID  CustomerTier CustomerTier2  \n",
       "0          26.2500     F.C.C. 13529             2           NaN  \n",
       "1          71.0000        WE/P 5735             1           B22  \n",
       "2         151.5500           113781             1           NaN  \n",
       "3          20.2500        C.A. 2673             3           NaN  \n",
       "4           7.1417          C 17369             3           NaN  "
      ]
     },
     "execution_count": 1,
     "metadata": {},
     "output_type": "execute_result"
    }
   ],
   "source": [
    "import numpy as np\n",
    "import matplotlib.pyplot as plt\n",
    "import pandas as pd\n",
    "\n",
    "dataset = pd.read_csv('customer.csv')\n",
    "dataset.head()"
   ]
  },
  {
   "cell_type": "markdown",
   "metadata": {},
   "source": [
    "Select and rearrange features needed. \n",
    "Explore Dataset"
   ]
  },
  {
   "cell_type": "code",
   "execution_count": 2,
   "metadata": {},
   "outputs": [
    {
     "name": "stdout",
     "output_type": "stream",
     "text": [
      "<class 'pandas.core.frame.DataFrame'>\n",
      "RangeIndex: 891 entries, 0 to 890\n",
      "Data columns (total 7 columns):\n",
      "Sex               891 non-null object\n",
      "CustomerType      889 non-null object\n",
      "CustomerTier      891 non-null int64\n",
      "Age               714 non-null float64\n",
      "Customer_ID       891 non-null int64\n",
      "Addtl_HH_size     891 non-null int64\n",
      "Rewards_Signup    891 non-null int64\n",
      "dtypes: float64(1), int64(4), object(2)\n",
      "memory usage: 48.9+ KB\n"
     ]
    },
    {
     "data": {
      "text/plain": [
       "count    891.000000\n",
       "mean       2.308642\n",
       "std        0.836071\n",
       "min        1.000000\n",
       "25%        2.000000\n",
       "50%        3.000000\n",
       "75%        3.000000\n",
       "max        3.000000\n",
       "Name: CustomerTier, dtype: float64"
      ]
     },
     "execution_count": 2,
     "metadata": {},
     "output_type": "execute_result"
    }
   ],
   "source": [
    "dataset = dataset[['Sex', 'CustomerType', 'CustomerTier', 'Age','Customer_ID','Addtl_HH_size', 'Rewards_Signup']]\n",
    "dataset.info()\n",
    "dataset['CustomerTier'].describe()"
   ]
  },
  {
   "cell_type": "markdown",
   "metadata": {},
   "source": [
    "Address Missing Values "
   ]
  },
  {
   "cell_type": "code",
   "execution_count": 3,
   "metadata": {},
   "outputs": [
    {
     "name": "stdout",
     "output_type": "stream",
     "text": [
      "<class 'pandas.core.frame.DataFrame'>\n",
      "Int64Index: 889 entries, 0 to 890\n",
      "Data columns (total 7 columns):\n",
      "Sex               889 non-null object\n",
      "CustomerType      889 non-null object\n",
      "CustomerTier      889 non-null int64\n",
      "Age               889 non-null float64\n",
      "Customer_ID       889 non-null int64\n",
      "Addtl_HH_size     889 non-null int64\n",
      "Rewards_Signup    889 non-null int64\n",
      "dtypes: float64(1), int64(4), object(2)\n",
      "memory usage: 55.6+ KB\n",
      "None\n"
     ]
    }
   ],
   "source": [
    "dataset.fillna(dataset.mean(), inplace=True)\n",
    "dataset.dropna(inplace=True)\n",
    "print(dataset.info())"
   ]
  },
  {
   "cell_type": "markdown",
   "metadata": {},
   "source": [
    "Divide dataset into matrix of features and target column\n"
   ]
  },
  {
   "cell_type": "code",
   "execution_count": 4,
   "metadata": {},
   "outputs": [],
   "source": [
    "X = dataset.iloc[:,:-1].values\n",
    "y = dataset.iloc[:,6].values"
   ]
  },
  {
   "cell_type": "markdown",
   "metadata": {},
   "source": [
    "Matrix of feature have some categorical variables. Transform these variables into a numeric valaues and remove any dummy variable"
   ]
  },
  {
   "cell_type": "code",
   "execution_count": 5,
   "metadata": {},
   "outputs": [
    {
     "name": "stdout",
     "output_type": "stream",
     "text": [
      "[[  1.   0.   1. ...  43. 315.   2.]\n",
      " [  1.   0.   0. ...  36. 541.   2.]\n",
      " [  1.   0.   0. ...  22. 709.   0.]\n",
      " ...\n",
      " [  1.   0.   1. ...  24. 566.   2.]\n",
      " [  0.   1.   0. ...  40. 320.   2.]\n",
      " [  1.   0.   1. ...  18. 229.   0.]]\n"
     ]
    }
   ],
   "source": [
    "from sklearn.preprocessing import LabelEncoder, OneHotEncoder\n",
    "le = LabelEncoder() \n",
    "for i in range(2):\n",
    "    X[:,i] = le.fit_transform(X[:,i].astype(str))\n",
    "\n",
    "#Onehotencode Customer Type Variable \n",
    "onehotencoder = OneHotEncoder(categorical_features=[1])\n",
    "X = onehotencoder.fit_transform(X).toarray()\n",
    "# Removing the extra dummy variable\n",
    "X = X[:, 1:]\n",
    "print(X)"
   ]
  },
  {
   "cell_type": "markdown",
   "metadata": {},
   "source": [
    "Apply feature selection technique "
   ]
  },
  {
   "cell_type": "code",
   "execution_count": 6,
   "metadata": {},
   "outputs": [
    {
     "name": "stdout",
     "output_type": "stream",
     "text": [
      "(889, 6)\n",
      "                            OLS Regression Results                            \n",
      "==============================================================================\n",
      "Dep. Variable:                      y   R-squared:                       0.395\n",
      "Model:                            OLS   Adj. R-squared:                  0.392\n",
      "Method:                 Least Squares   F-statistic:                     115.3\n",
      "Date:                Wed, 11 Dec 2019   Prob (F-statistic):           7.53e-94\n",
      "Time:                        18:59:09   Log-Likelihood:                -396.56\n",
      "No. Observations:                 889   AIC:                             805.1\n",
      "Df Residuals:                     883   BIC:                             833.9\n",
      "Df Model:                           5                                         \n",
      "Covariance Type:            nonrobust                                         \n",
      "==============================================================================\n",
      "                 coef    std err          t      P>|t|      [0.025      0.975]\n",
      "------------------------------------------------------------------------------\n",
      "const          1.3852      0.062     22.342      0.000       1.264       1.507\n",
      "x1            -0.0685      0.029     -2.373      0.018      -0.125      -0.012\n",
      "x2            -0.5088      0.028    -18.258      0.000      -0.564      -0.454\n",
      "x3            -0.1820      0.016    -11.102      0.000      -0.214      -0.150\n",
      "x4            -0.0059      0.001     -5.508      0.000      -0.008      -0.004\n",
      "x5            -0.0293      0.008     -3.521      0.000      -0.046      -0.013\n",
      "==============================================================================\n",
      "Omnibus:                       39.254   Durbin-Watson:                   1.999\n",
      "Prob(Omnibus):                  0.000   Jarque-Bera (JB):               43.465\n",
      "Skew:                           0.538   Prob(JB):                     3.64e-10\n",
      "Kurtosis:                       3.122   Cond. No.                         163.\n",
      "==============================================================================\n",
      "\n",
      "Warnings:\n",
      "[1] Standard Errors assume that the covariance matrix of the errors is correctly specified.\n"
     ]
    }
   ],
   "source": [
    "import statsmodels.api as sm\n",
    "X = np.append(arr=np.ones((889,1)).astype(int), values=X, axis=1)\n",
    "\n",
    "def backwardElimination(X, sl):\n",
    "    numVars = len(X[0])\n",
    "    for i in range(0, numVars):\n",
    "        regressor_OLS = sm.OLS(y, X).fit()\n",
    "        maxVar = max(regressor_OLS.pvalues).astype(float)\n",
    "        if maxVar > sl:\n",
    "            for j in range(0, numVars - i):\n",
    "                if (regressor_OLS.pvalues[j].astype(float) == maxVar):\n",
    "                    X = np.delete(X, j, 1)\n",
    "    regressor_OLS.summary()\n",
    "    return X\n",
    " \n",
    "SL = 0.05\n",
    "X_opt = X[:, [0,1,2,3,4,5,6,7]]\n",
    "X_sig = backwardElimination(X_opt, SL)\n",
    "\n",
    "obj_OLS = sm.OLS(endog = y, exog = X_sig).fit()\n",
    "print(X_sig.shape)\n",
    "print(obj_OLS.summary())"
   ]
  },
  {
   "cell_type": "markdown",
   "metadata": {},
   "source": [
    "Split dataset into training set and test set using this ratio (70% training and 30% test)"
   ]
  },
  {
   "cell_type": "code",
   "execution_count": 27,
   "metadata": {},
   "outputs": [],
   "source": [
    "from sklearn.model_selection import train_test_split\n",
    "X_train, X_test, y_train, y_test = train_test_split(X_sig, y, test_size=0.3,random_state=0)"
   ]
  },
  {
   "cell_type": "markdown",
   "metadata": {},
   "source": [
    "Model Selection"
   ]
  },
  {
   "cell_type": "code",
   "execution_count": 43,
   "metadata": {},
   "outputs": [],
   "source": [
    "from sklearn.model_selection import GridSearchCV\n",
    "from sklearn.metrics import confusion_matrix\n",
    "from sklearn.ensemble import RandomForestClassifier\n",
    "from sklearn.linear_model import LogisticRegression\n",
    "from sklearn.naive_bayes import GaussianNB\n",
    "from sklearn.svm import SVC\n",
    "from sklearn.naive_bayes import GaussianNB\n",
    "from sklearn.neighbors import KNeighborsClassifier\n",
    "\n",
    "\n",
    "# Create Python dictionary using [] or dict()\n",
    "Best_Score = []"
   ]
  },
  {
   "cell_type": "markdown",
   "metadata": {},
   "source": [
    "Random Forest"
   ]
  },
  {
   "cell_type": "code",
   "execution_count": 44,
   "metadata": {},
   "outputs": [
    {
     "name": "stdout",
     "output_type": "stream",
     "text": [
      "Random Forest best parameter : {'bootstrap': True, 'criterion': 'gini', 'n_estimators': 12}\n",
      "Random Forest best Accuracy: 0.8070739549839229\n",
      "Random Fores average Accuracy: 0.7836012861736334\n"
     ]
    }
   ],
   "source": [
    "M1 = RandomForestClassifier()\n",
    "grid_param = {  \n",
    "    \n",
    "    'n_estimators': range(5,25),\n",
    "    'criterion': ['gini', 'entropy'],\n",
    "    'bootstrap': [True, False]\n",
    "    \n",
    "}\n",
    "\n",
    "gd_sr = GridSearchCV(estimator=M1, param_grid=grid_param, scoring='accuracy', cv=2, n_jobs=-1)\n",
    "gd_sr.fit(X_train, y_train) \n",
    "Best_Score.append(gd_sr.best_score_)\n",
    "print('Random Forest best parameter :', gd_sr.best_params_)  \n",
    "print('Random Forest best Accuracy:', gd_sr.best_score_)\n",
    "print('Random Fores average Accuracy:', np.average(gd_sr.cv_results_['mean_test_score']))\n"
   ]
  },
  {
   "cell_type": "markdown",
   "metadata": {},
   "source": [
    "Logistic Regression"
   ]
  },
  {
   "cell_type": "code",
   "execution_count": 45,
   "metadata": {},
   "outputs": [
    {
     "name": "stdout",
     "output_type": "stream",
     "text": [
      "Logistic best parameter : {'penalty': 'l1', 'random_state': None}\n",
      "Logistic best Accuracy: 0.8038585209003215\n",
      "Logistic average Accuracy: 0.8018488745980707\n"
     ]
    }
   ],
   "source": [
    "M2 = LogisticRegression()\n",
    "grid_param1 = {  \n",
    "    \n",
    "    'penalty': ['l1', 'l2'],\n",
    "    'random_state': [None, 0]\n",
    "    \n",
    "}\n",
    "gd_sr1 = GridSearchCV(estimator=M2, param_grid=grid_param1, scoring='accuracy', cv=2, n_jobs=-1)\n",
    "gd_sr1.fit(X_train, y_train) \n",
    "Best_Score.append(gd_sr1.best_score_)\n",
    "print('Logistic best parameter :', gd_sr1.best_params_)  \n",
    "print('Logistic best Accuracy:', gd_sr1.best_score_)\n",
    "print('Logistic average Accuracy:', np.average(gd_sr1.cv_results_['mean_test_score']))"
   ]
  },
  {
   "cell_type": "markdown",
   "metadata": {},
   "source": [
    "KiNearest Neighbors"
   ]
  },
  {
   "cell_type": "code",
   "execution_count": 46,
   "metadata": {},
   "outputs": [
    {
     "name": "stdout",
     "output_type": "stream",
     "text": [
      "Knn best parameter : {'n_neighbors': 4, 'weights': 'distance'}\n",
      "Knn best Accuracy: 0.7893890675241158\n",
      "Logistic average Accuracy: 0.757368703108253\n"
     ]
    }
   ],
   "source": [
    "M4 = KNeighborsClassifier(n_neighbors=5, p=2, metric='minkowski')\n",
    "\n",
    "grid_param3 = {  \n",
    "    \n",
    "    'n_neighbors': [3, 4, 5, 6, 7, 20],  \n",
    "    'weights': ['uniform', 'distance']\n",
    "    \n",
    "}\n",
    "\n",
    "gd_sr3 = GridSearchCV(estimator=M4, param_grid=grid_param3, scoring='accuracy', cv=2, n_jobs=-1)\n",
    "gd_sr3.fit(X_train, y_train) \n",
    "Best_Score.append(gd_sr3.best_score_)\n",
    "print('Knn best parameter :', gd_sr3.best_params_)  \n",
    "print('Knn best Accuracy:', gd_sr3.best_score_)\n",
    "print('Logistic average Accuracy:', np.average(gd_sr3.cv_results_['mean_test_score']))"
   ]
  },
  {
   "cell_type": "markdown",
   "metadata": {},
   "source": [
    "Naive Bayes"
   ]
  },
  {
   "cell_type": "code",
   "execution_count": 47,
   "metadata": {},
   "outputs": [
    {
     "name": "stdout",
     "output_type": "stream",
     "text": [
      "Knn best parameter : {'priors': None}\n",
      "Knn best Accuracy: 0.7717041800643086\n",
      "Logistic average Accuracy: 0.7717041800643086\n"
     ]
    }
   ],
   "source": [
    "M5 = GaussianNB()\n",
    "\n",
    "grid_param5 = {  \n",
    "    \n",
    "    'priors': [None],  \n",
    "    \n",
    "}\n",
    "\n",
    "gd_sr5 = GridSearchCV(estimator=M5, param_grid=grid_param5, scoring='accuracy', cv=2, n_jobs=-1)\n",
    "gd_sr5.fit(X_train, y_train) \n",
    "Best_Score.append(gd_sr5.best_score_)\n",
    "print('Knn best parameter :', gd_sr5.best_params_)  \n",
    "print('Knn best Accuracy:', gd_sr5.best_score_)\n",
    "print('Logistic average Accuracy:', np.average(gd_sr5.cv_results_['mean_test_score']))"
   ]
  },
  {
   "cell_type": "markdown",
   "metadata": {},
   "source": [
    "Evaluate Model Accuracy"
   ]
  },
  {
   "cell_type": "code",
   "execution_count": 48,
   "metadata": {},
   "outputs": [
    {
     "data": {
      "image/png": "[encoded data removed]",
      "text/plain": [
       "<Figure size 432x288 with 1 Axes>"
      ]
     },
     "metadata": {
      "needs_background": "light"
     },
     "output_type": "display_data"
    }
   ],
   "source": [
    "objects = ('Randon_Forest', 'L_Reg', 'knn', 'NB')\n",
    "y_pos = np.arange(len(objects))\n",
    "\n",
    "plt.bar(y_pos, Best_Score, align='center', alpha=0.5)\n",
    "plt.xticks(y_pos, objects)\n",
    "plt.ylabel('Accuracy')\n",
    "plt.title('Model Selection')\n",
    "\n",
    "plt.show()"
   ]
  }
 ],
 "metadata": {
  "kernelspec": {
   "display_name": "Python 3",
   "language": "python",
   "name": "python3"
  },
  "language_info": {
   "codemirror_mode": {
    "name": "ipython",
    "version": 3
   },
   "file_extension": ".py",
   "mimetype": "text/x-python",
   "name": "python",
   "nbconvert_exporter": "python",
   "pygments_lexer": "ipython3",
   "version": "3.7.4"
  }
 },
 "nbformat": 4,
 "nbformat_minor": 2
}
