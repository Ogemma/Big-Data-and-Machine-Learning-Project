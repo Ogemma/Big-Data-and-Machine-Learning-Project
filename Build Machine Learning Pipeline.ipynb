{
 "cells": [
  {
   "cell_type": "markdown",
   "metadata": {},
   "source": [
    "Import Libraries\n"
   ]
  },
  {
   "cell_type": "code",
   "execution_count": null,
   "metadata": {},
   "outputs": [],
   "source": [
    "import numpy as np\n",
    "import matplotlib.pyplot as plt\n",
    "import pandas as pd\n",
    "from sklearn.model_selection import GridSearchCV\n",
    "from sklearn.metrics import confusion_matrix\n",
    "from sklearn.ensemble import RandomForestClassifier\n",
    "from sklearn.linear_model import LogisticRegression\n",
    "from sklearn.naive_bayes import GaussianNB\n",
    "from sklearn.svm import SVC\n",
    "from sklearn.naive_bayes import GaussianNB\n",
    "from sklearn.neighbors import KNeighborsClassifier"
   ]
  },
  {
   "cell_type": "markdown",
   "metadata": {},
   "source": [
    "Load dataset "
   ]
  },
  {
   "cell_type": "code",
   "execution_count": 97,
   "metadata": {},
   "outputs": [],
   "source": [
    "features = pd.read_fwf('features.txt', header=None)\n",
    "X_train1 = pd.read_fwf('X_train.txt', header=None)\n",
    "y_train1 = pd.read_fwf('y_train.txt', header=None)\n",
    "X_test1 = pd.read_fwf('X_test.txt', header=None)\n",
    "y_test1 = pd.read_fwf('y_test.txt', header=None)\n",
    "y = y_train1.append(y_test1)\n",
    "X = X_train1.append(X_test1)"
   ]
  },
  {
   "cell_type": "markdown",
   "metadata": {},
   "source": [
    "Exploring Dataset"
   ]
  },
  {
   "cell_type": "code",
   "execution_count": 81,
   "metadata": {},
   "outputs": [
    {
     "name": "stdout",
     "output_type": "stream",
     "text": [
      "<class 'pandas.core.frame.DataFrame'>\n",
      "Int64Index: 10299 entries, 0 to 2946\n",
      "Columns: 561 entries, 0 to 560\n",
      "dtypes: float64(561)\n",
      "memory usage: 44.2 MB\n",
      "None\n",
      "<class 'pandas.core.frame.DataFrame'>\n",
      "Int64Index: 10299 entries, 0 to 2946\n",
      "Data columns (total 1 columns):\n",
      "0    10299 non-null int64\n",
      "dtypes: int64(1)\n",
      "memory usage: 160.9 KB\n",
      "None\n"
     ]
    }
   ],
   "source": [
    "print(X.info())\n",
    "print(y.info())"
   ]
  },
  {
   "cell_type": "markdown",
   "metadata": {},
   "source": [
    "Splitting dataset into Training Set and Test Set"
   ]
  },
  {
   "cell_type": "code",
   "execution_count": 98,
   "metadata": {},
   "outputs": [],
   "source": [
    "from sklearn.model_selection import train_test_split\n",
    "X_train, X_test, y_train, y_test = train_test_split(X,y,test_size=0.3,random_state=0)"
   ]
  },
  {
   "cell_type": "markdown",
   "metadata": {},
   "source": [
    "Normalizing the features"
   ]
  },
  {
   "cell_type": "code",
   "execution_count": 87,
   "metadata": {},
   "outputs": [],
   "source": [
    "from sklearn.preprocessing import StandardScaler\n",
    "sc_X = StandardScaler()\n",
    "X_train = sc_X.fit_transform(X_train)\n",
    "X_test = sc_X.transform(X_test)\n"
   ]
  },
  {
   "cell_type": "markdown",
   "metadata": {},
   "source": [
    "Create Python dictionary using [] or dict()"
   ]
  },
  {
   "cell_type": "code",
   "execution_count": 88,
   "metadata": {},
   "outputs": [],
   "source": [
    "Best_Score = []"
   ]
  },
  {
   "cell_type": "markdown",
   "metadata": {},
   "source": [
    "## Random Forest"
   ]
  },
  {
   "cell_type": "code",
   "execution_count": 89,
   "metadata": {},
   "outputs": [
    {
     "name": "stderr",
     "output_type": "stream",
     "text": [
      "C:\\Users\\micha\\Anaconda3\\lib\\site-packages\\sklearn\\model_selection\\_search.py:740: DataConversionWarning: A column-vector y was passed when a 1d array was expected. Please change the shape of y to (n_samples,), for example using ravel().\n",
      "  self.best_estimator_.fit(X, y, **fit_params)\n"
     ]
    },
    {
     "name": "stdout",
     "output_type": "stream",
     "text": [
      "Random Forest best parameter : {'bootstrap': False, 'criterion': 'entropy', 'n_estimators': 24}\n",
      "Random Forest best Accuracy: 0.9717020391177694\n",
      "Random Fores average Accuracy: 0.9611752670273269\n"
     ]
    }
   ],
   "source": [
    "M1 = RandomForestClassifier()\n",
    "grid_param = {  \n",
    "    \n",
    "    'n_estimators': range(5,25),\n",
    "    'criterion': ['gini', 'entropy'],\n",
    "    'bootstrap': [True, False]\n",
    "    \n",
    "}\n",
    "\n",
    "gd_sr = GridSearchCV(estimator=M1, param_grid=grid_param, scoring='accuracy', cv=2, n_jobs=-1)\n",
    "gd_sr.fit(X_train, y_train) \n",
    "Best_Score.append(gd_sr.best_score_)\n",
    "print('Random Forest best parameter :', gd_sr.best_params_)  \n",
    "print('Random Forest best Accuracy:', gd_sr.best_score_)\n",
    "print('Random Fores average Accuracy:', np.average(gd_sr.cv_results_['mean_test_score']))\n"
   ]
  },
  {
   "cell_type": "markdown",
   "metadata": {},
   "source": [
    "## Logistic Regression"
   ]
  },
  {
   "cell_type": "code",
   "execution_count": 90,
   "metadata": {},
   "outputs": [
    {
     "name": "stderr",
     "output_type": "stream",
     "text": [
      "C:\\Users\\micha\\Anaconda3\\lib\\site-packages\\sklearn\\utils\\validation.py:578: DataConversionWarning: A column-vector y was passed when a 1d array was expected. Please change the shape of y to (n_samples, ), for example using ravel().\n",
      "  y = column_or_1d(y, warn=True)\n"
     ]
    },
    {
     "name": "stdout",
     "output_type": "stream",
     "text": [
      "Logistic best parameter : {'penalty': 'l1', 'random_state': None}\n",
      "Logistic best Accuracy: 0.9797475377999723\n",
      "Logistic average Accuracy: 0.9787418504646969\n"
     ]
    }
   ],
   "source": [
    "M2 = LogisticRegression()\n",
    "grid_param1 = {  \n",
    "    \n",
    "    'penalty': ['l1', 'l2'],\n",
    "    'random_state': [None, 0]\n",
    "    \n",
    "}\n",
    "gd_sr1 = GridSearchCV(estimator=M2, param_grid=grid_param1, scoring='accuracy', cv=2, n_jobs=-1)\n",
    "gd_sr1.fit(X_train, y_train) \n",
    "Best_Score.append(gd_sr1.best_score_)\n",
    "print('Logistic best parameter :', gd_sr1.best_params_)  \n",
    "print('Logistic best Accuracy:', gd_sr1.best_score_)\n",
    "print('Logistic average Accuracy:', np.average(gd_sr1.cv_results_['mean_test_score']))\n"
   ]
  },
  {
   "cell_type": "markdown",
   "metadata": {},
   "source": [
    "## Support Vector Machine"
   ]
  },
  {
   "cell_type": "code",
   "execution_count": 91,
   "metadata": {},
   "outputs": [
    {
     "name": "stderr",
     "output_type": "stream",
     "text": [
      "C:\\Users\\micha\\Anaconda3\\lib\\site-packages\\sklearn\\utils\\validation.py:578: DataConversionWarning: A column-vector y was passed when a 1d array was expected. Please change the shape of y to (n_samples, ), for example using ravel().\n",
      "  y = column_or_1d(y, warn=True)\n"
     ]
    },
    {
     "name": "stdout",
     "output_type": "stream",
     "text": [
      "SVM best parameter : {'degree': 3, 'kernel': 'linear', 'random_state': None}\n",
      "SVM Accuracy: 0.9773893743931197\n",
      "Logistic best average Accuracy: 0.9120803856290747\n"
     ]
    }
   ],
   "source": [
    "M3 = SVC()\n",
    "\n",
    "grid_param2 = {  \n",
    "    \n",
    "    'kernel': ['rbf', 'linear', 'poly', 'sigmoid'],  \n",
    "    'degree': [3, 4, 5, 6],\n",
    "    'random_state': [None, 0]\n",
    "}\n",
    "gd_sr2 = GridSearchCV(estimator=M3, param_grid=grid_param2, scoring='accuracy', cv=2, n_jobs=-1)\n",
    "gd_sr2.fit(X_train, y_train) \n",
    "Best_Score.append(gd_sr2.best_score_)\n",
    "print('SVM best parameter :', gd_sr2.best_params_)  \n",
    "print('SVM Accuracy:', gd_sr2.best_score_)\n",
    "print('Logistic best average Accuracy:', np.average(gd_sr2.cv_results_['mean_test_score']))\n"
   ]
  },
  {
   "cell_type": "markdown",
   "metadata": {},
   "source": [
    "## K-Nearest Neighbors"
   ]
  },
  {
   "cell_type": "code",
   "execution_count": 92,
   "metadata": {},
   "outputs": [
    {
     "name": "stderr",
     "output_type": "stream",
     "text": [
      "C:\\Users\\micha\\Anaconda3\\lib\\site-packages\\sklearn\\model_selection\\_search.py:740: DataConversionWarning: A column-vector y was passed when a 1d array was expected. Please change the shape of y to (n_samples, ), for example using ravel().\n",
      "  self.best_estimator_.fit(X, y, **fit_params)\n"
     ]
    },
    {
     "name": "stdout",
     "output_type": "stream",
     "text": [
      "Knn best parameter : {'n_neighbors': 6, 'weights': 'distance'}\n",
      "Knn best Accuracy: 0.9492301290054099\n",
      "Logistic average Accuracy: 0.9120803856290747\n"
     ]
    }
   ],
   "source": [
    "M4 = KNeighborsClassifier(n_neighbors=5, p=2, metric='minkowski')\n",
    "\n",
    "grid_param3 = {  \n",
    "    \n",
    "    'n_neighbors': [3, 4, 5, 6, 7, 20],  \n",
    "    'weights': ['uniform', 'distance']\n",
    "    \n",
    "}\n",
    "\n",
    "gd_sr3 = GridSearchCV(estimator=M4, param_grid=grid_param3, scoring='accuracy', cv=2, n_jobs=-1)\n",
    "gd_sr3.fit(X_train, y_train) \n",
    "Best_Score.append(gd_sr3.best_score_)\n",
    "print('Knn best parameter :', gd_sr3.best_params_)  \n",
    "print('Knn best Accuracy:', gd_sr3.best_score_)\n",
    "print('Logistic average Accuracy:', np.average(gd_sr2.cv_results_['mean_test_score']))\n"
   ]
  },
  {
   "cell_type": "markdown",
   "metadata": {},
   "source": [
    "Naive Bayes"
   ]
  },
  {
   "cell_type": "code",
   "execution_count": 99,
   "metadata": {},
   "outputs": [
    {
     "name": "stdout",
     "output_type": "stream",
     "text": [
      "Knn best parameter : {'priors': None}\n",
      "Knn best Accuracy: 0.7493411014010265\n",
      "Logistic average Accuracy: 0.7493411014010265\n"
     ]
    },
    {
     "name": "stderr",
     "output_type": "stream",
     "text": [
      "C:\\Users\\micha\\Anaconda3\\lib\\site-packages\\sklearn\\utils\\validation.py:578: DataConversionWarning: A column-vector y was passed when a 1d array was expected. Please change the shape of y to (n_samples, ), for example using ravel().\n",
      "  y = column_or_1d(y, warn=True)\n"
     ]
    }
   ],
   "source": [
    "M5 = GaussianNB()\n",
    "\n",
    "grid_param5 = {  \n",
    "    \n",
    "    'priors': [None],  \n",
    "    \n",
    "}\n",
    "\n",
    "gd_sr5 = GridSearchCV(estimator=M5, param_grid=grid_param5, scoring='accuracy', cv=2, n_jobs=-1)\n",
    "gd_sr5.fit(X_train, y_train) \n",
    "Best_Score.append(gd_sr5.best_score_)\n",
    "print('Knn best parameter :', gd_sr5.best_params_)  \n",
    "print('Knn best Accuracy:', gd_sr5.best_score_)\n",
    "print('Logistic average Accuracy:', np.average(gd_sr5.cv_results_['mean_test_score']))\n"
   ]
  },
  {
   "cell_type": "markdown",
   "metadata": {},
   "source": [
    "Visualize Model Performance"
   ]
  },
  {
   "cell_type": "code",
   "execution_count": 101,
   "metadata": {},
   "outputs": [
    {
     "data": {
      "image/png": "[encoded data removed]",
      "text/plain": [
       "<Figure size 432x288 with 1 Axes>"
      ]
     },
     "metadata": {
      "needs_background": "light"
     },
     "output_type": "display_data"
    }
   ],
   "source": [
    "objects = ('Randon_Forest', 'L_Reg', 'SVC', 'KNN','NB')\n",
    "y_pos = np.arange(len(objects))\n",
    "\n",
    "plt.bar(y_pos, Best_Score, align='center', alpha=0.5)\n",
    "plt.xticks(y_pos, objects)\n",
    "plt.ylabel('Accuracy')\n",
    "plt.title('Model Selection')\n",
    "\n",
    "plt.show()"
   ]
  },
  {
   "cell_type": "markdown",
   "metadata": {},
   "source": [
    "Cased on the model evaluation, linear regression model has the highest accuracy rate. Reduce dimension of dataset by using PCA "
   ]
  },
  {
   "cell_type": "code",
   "execution_count": 94,
   "metadata": {},
   "outputs": [
    {
     "name": "stderr",
     "output_type": "stream",
     "text": [
      "C:\\Users\\micha\\Anaconda3\\lib\\site-packages\\sklearn\\utils\\validation.py:578: DataConversionWarning: A column-vector y was passed when a 1d array was expected. Please change the shape of y to (n_samples, ), for example using ravel().\n",
      "  y = column_or_1d(y, warn=True)\n",
      "C:\\Users\\micha\\Anaconda3\\lib\\site-packages\\sklearn\\utils\\validation.py:578: DataConversionWarning: A column-vector y was passed when a 1d array was expected. Please change the shape of y to (n_samples, ), for example using ravel().\n",
      "  y = column_or_1d(y, warn=True)\n",
      "C:\\Users\\micha\\Anaconda3\\lib\\site-packages\\sklearn\\utils\\validation.py:578: DataConversionWarning: A column-vector y was passed when a 1d array was expected. Please change the shape of y to (n_samples, ), for example using ravel().\n",
      "  y = column_or_1d(y, warn=True)\n",
      "C:\\Users\\micha\\Anaconda3\\lib\\site-packages\\sklearn\\utils\\validation.py:578: DataConversionWarning: A column-vector y was passed when a 1d array was expected. Please change the shape of y to (n_samples, ), for example using ravel().\n",
      "  y = column_or_1d(y, warn=True)\n",
      "C:\\Users\\micha\\Anaconda3\\lib\\site-packages\\sklearn\\utils\\validation.py:578: DataConversionWarning: A column-vector y was passed when a 1d array was expected. Please change the shape of y to (n_samples, ), for example using ravel().\n",
      "  y = column_or_1d(y, warn=True)\n",
      "C:\\Users\\micha\\Anaconda3\\lib\\site-packages\\sklearn\\utils\\validation.py:578: DataConversionWarning: A column-vector y was passed when a 1d array was expected. Please change the shape of y to (n_samples, ), for example using ravel().\n",
      "  y = column_or_1d(y, warn=True)\n"
     ]
    },
    {
     "data": {
      "image/png": "[encoded data removed]",
      "text/plain": [
       "<Figure size 432x288 with 1 Axes>"
      ]
     },
     "metadata": {
      "needs_background": "light"
     },
     "output_type": "display_data"
    }
   ],
   "source": [
    "from sklearn.pipeline import make_pipeline\n",
    "from sklearn.preprocessing import Imputer\n",
    "from sklearn.decomposition import PCA\n",
    "\n",
    "PCA_Range = [5,4,3,2]\n",
    "\n",
    "# We can create Python dictionary using [] or dict()\n",
    "scores = []\n",
    "range2 = []\n",
    "\n",
    "# We use a loop through the range 1 to 26\n",
    "# We append the scores in the dictionary\n",
    "for k in PCA_Range:\n",
    "    pipe_lr = make_pipeline(PCA(n_components=k), RandomForestClassifier(n_estimators = 10, criterion = 'gini', bootstrap = True))\n",
    "    pipe_lr.fit(X_train, y_train)\n",
    "    y_pred = pipe_lr.predict(X_test)\n",
    "    scores.append(1-(pipe_lr.score(X_test,y_test)))\n",
    "    range2.append(k)\n",
    "    \n",
    "    \n",
    "#visualize error rate per PCA   \n",
    "plt.bar(range2, scores)\n",
    "plt.xlabel('PCA', fontsize=15)\n",
    "plt.ylabel('Testing Error Rate', fontsize=15)\n",
    "plt.xticks(range2, fontsize=10)\n",
    "plt.title('Error Rate Per PCA')\n",
    "plt.show()"
   ]
  },
  {
   "cell_type": "markdown",
   "metadata": {},
   "source": [
    "Build Final Model Pipeline, Evaluate accuracy and visualize confusion matrix"
   ]
  },
  {
   "cell_type": "code",
   "execution_count": 95,
   "metadata": {},
   "outputs": [
    {
     "name": "stderr",
     "output_type": "stream",
     "text": [
      "C:\\Users\\micha\\Anaconda3\\lib\\site-packages\\sklearn\\utils\\validation.py:578: DataConversionWarning: A column-vector y was passed when a 1d array was expected. Please change the shape of y to (n_samples, ), for example using ravel().\n",
      "  y = column_or_1d(y, warn=True)\n"
     ]
    },
    {
     "name": "stdout",
     "output_type": "stream",
     "text": [
      "Test Accuracy: 0.987\n"
     ]
    },
    {
     "data": {
      "text/plain": [
       "Text(0.5, 15.0, 'Predicted label')"
      ]
     },
     "execution_count": 95,
     "metadata": {},
     "output_type": "execute_result"
    },
    {
     "data": {
      "image/png": "[encoded data removed]",
      "text/plain": [
       "<Figure size 432x288 with 2 Axes>"
      ]
     },
     "metadata": {
      "needs_background": "light"
     },
     "output_type": "display_data"
    }
   ],
   "source": [
    "from sklearn.pipeline import make_pipeline\n",
    "from sklearn.preprocessing import Imputer\n",
    "import seaborn as sns\n",
    "from sklearn.metrics import confusion_matrix\n",
    "\n",
    "#Build Final Model Pipeline\n",
    "pipe_lr = make_pipeline(StandardScaler(), PCA(n_components=300), Imputer(missing_values=np.nan, strategy='mean'), LogisticRegression(penalty = 'l1', random_state=None))\n",
    "pipe_lr.fit(X_train, y_train)\n",
    "y_pred = pipe_lr.predict(X_test)\n",
    "print('Test Accuracy: %.3f' % pipe_lr.score(X_test, y_test))\n",
    "\n",
    "#Visualize Confusion Matrix\n",
    "cm = confusion_matrix(y_test, y_pred)\n",
    "class_names=[1,2,3,4,5,6] # name  of classes\n",
    "fig, ax = plt.subplots()\n",
    "tick_marks = np.arange(len(class_names))\n",
    "plt.xticks(tick_marks, class_names)\n",
    "plt.yticks(tick_marks, class_names)\n",
    "\n",
    "sns.heatmap(pd.DataFrame(cm), annot=True, cmap=\"YlGnBu\" ,fmt='g')\n",
    "ax.xaxis.set_label_position(\"bottom\")\n",
    "plt.tight_layout()\n",
    "plt.title('Confusion matrix', y=1.1)\n",
    "plt.ylabel('Actual label')\n",
    "plt.xlabel('Predicted label')"
   ]
  },
  {
   "cell_type": "code",
   "execution_count": null,
   "metadata": {},
   "outputs": [],
   "source": []
  }
 ],
 "metadata": {
  "kernelspec": {
   "display_name": "Python 3",
   "language": "python",
   "name": "python3"
  },
  "language_info": {
   "codemirror_mode": {
    "name": "ipython",
    "version": 3
   },
   "file_extension": ".py",
   "mimetype": "text/x-python",
   "name": "python",
   "nbconvert_exporter": "python",
   "pygments_lexer": "ipython3",
   "version": "3.7.4"
  }
 },
 "nbformat": 4,
 "nbformat_minor": 2
}
